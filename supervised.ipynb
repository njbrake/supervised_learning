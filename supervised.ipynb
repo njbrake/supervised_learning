{
 "cells": [
  {
   "cell_type": "code",
   "execution_count": 76,
   "id": "18a26976",
   "metadata": {},
   "outputs": [],
   "source": [
    "import pandas as pd\n",
    "import numpy as np\n",
    "import matplotlib.pyplot as plt\n",
    "from matplotlib import rcParams\n",
    "from matplotlib.cm import rainbow\n",
    "from functools import lru_cache\n",
    "from sklearn.model_selection import train_test_split\n",
    "from sklearn.preprocessing import MinMaxScaler\n",
    "from sklearn.tree import DecisionTreeClassifier\n",
    "from sklearn.neural_network import MLPClassifier\n",
    "from sklearn.ensemble import AdaBoostClassifier\n",
    "from sklearn.datasets import make_classification\n",
    "from sklearn.neighbors import KNeighborsClassifier\n",
    "from sklearn.model_selection import KFold\n",
    "from sklearn.metrics import confusion_matrix\n",
    "from sklearn import svm"
   ]
  },
  {
   "cell_type": "code",
   "execution_count": 2,
   "id": "f32076bf",
   "metadata": {},
   "outputs": [],
   "source": [
    "@lru_cache(maxsize=None)\n",
    "def load_bank():\n",
    "    # https://archive.ics.uci.edu/ml/datasets/Bank+Marketing\n",
    "    df=pd.read_csv('data/bank.csv', sep=';',header=0)\n",
    "    # Basic data cleanup to get rid of bad values and turn Y into 0-1 val\n",
    "    df=df.dropna(axis=1, how='all')\n",
    "    df=df.dropna(axis=0, how='any')\n",
    "    cat_cols=[]\n",
    "    i = 0 \n",
    "    for eachcol in df.dtypes:\n",
    "        if eachcol.name==\"object\":\n",
    "            cat_cols.append(df.columns[i])\n",
    "        i=i+1\n",
    "    # Convert the string values into integers, and give each value its own column, hot encode\n",
    "    df=pd.get_dummies(df,columns=cat_cols)\n",
    "    df.head()\n",
    "    X=df.iloc[:,0:-2]\n",
    "    y=df['y_yes']\n",
    "    # Use sklearn to split up the dataset\n",
    "    return X, y\n"
   ]
  },
  {
   "cell_type": "code",
   "execution_count": 3,
   "id": "7b896d75",
   "metadata": {},
   "outputs": [],
   "source": [
    "@lru_cache(maxsize=None)\n",
    "def load_heart():\n",
    "    # https://www.kaggle.com/ronitf/heart-disease-uci\n",
    "    df = pd.read_csv(\"data/heart.csv\")\n",
    "    X = df.iloc[:,0:-1]\n",
    "    y = df.iloc[:,-1]\n",
    "    return X, y"
   ]
  },
  {
   "cell_type": "code",
   "execution_count": 4,
   "id": "c2f78003",
   "metadata": {},
   "outputs": [],
   "source": [
    "@lru_cache(maxsize=None)\n",
    "def load_mobile():\n",
    "    # https://www.kaggle.com/iabhishekofficial/mobile-price-classification\n",
    "    df = pd.read_csv(\"data/phone_price.csv\")\n",
    "    print(df['price_range'])\n",
    "    X = df.iloc[:,0:-1]\n",
    "    y = df.iloc[:,-1]\n",
    "    return X, y"
   ]
  },
  {
   "cell_type": "code",
   "execution_count": 79,
   "id": "2184fb70",
   "metadata": {},
   "outputs": [],
   "source": [
    "# X, y = load_heart()\n",
    "X, y = load_mobile()"
   ]
  },
  {
   "cell_type": "markdown",
   "id": "2ef0a10a",
   "metadata": {},
   "source": [
    "# Understanding the Data"
   ]
  },
  {
   "cell_type": "code",
   "execution_count": 72,
   "id": "1092d07c",
   "metadata": {},
   "outputs": [
    {
     "name": "stdout",
     "output_type": "stream",
     "text": [
      "Shape is  (2000, 20)\n"
     ]
    },
    {
     "data": {
      "text/plain": [
       "<Figure size 432x432 with 0 Axes>"
      ]
     },
     "metadata": {},
     "output_type": "display_data"
    },
    {
     "data": {
      "text/plain": [
       "<Figure size 576x432 with 0 Axes>"
      ]
     },
     "metadata": {},
     "output_type": "display_data"
    }
   ],
   "source": [
    "def save_figs(dX, y, name):\n",
    "    plt.matshow(X.corr())\n",
    "    plt.yticks(np.arange(X.shape[1]), X.columns)\n",
    "    plt.xticks(np.arange(X.shape[1]), X.columns)\n",
    "    plt.colorbar()\n",
    "    plt.savefig(f'{name}_correlation.png', bbox_inches='tight')\n",
    "    plt.clf()\n",
    "    X.hist()\n",
    "    plt.savefig(f'{name}_histogram.png', bbox_inches='tight')\n",
    "    plt.clf()\n",
    "    y.hist()\n",
    "    plt.savefig(f'{name}_y_histogram.png', bbox_inches='tight')\n",
    "    plt.clf()\n",
    "make_figs(X,y,\"mobile\")"
   ]
  },
  {
   "cell_type": "code",
   "execution_count": 75,
   "id": "5ab175e7",
   "metadata": {},
   "outputs": [
    {
     "name": "stdout",
     "output_type": "stream",
     "text": [
      "X Shape is  (303, 13)\n"
     ]
    }
   ],
   "source": [
    "print(\"X Shape is \",X.shape)\n",
    "\n",
    "# Empty array that will hold our classifiers\n",
    "classifiers = []"
   ]
  },
  {
   "cell_type": "markdown",
   "id": "924e66bd",
   "metadata": {},
   "source": [
    "# Decision Tree"
   ]
  },
  {
   "cell_type": "code",
   "execution_count": 80,
   "id": "dc6e058c",
   "metadata": {},
   "outputs": [
    {
     "name": "stdout",
     "output_type": "stream",
     "text": [
      "(400,)\n"
     ]
    },
    {
     "data": {
      "text/plain": [
       "array([[92, 10,  0,  0],\n",
       "       [13, 81, 11,  0],\n",
       "       [ 0,  8, 72, 15],\n",
       "       [ 0,  0, 12, 86]])"
      ]
     },
     "execution_count": 80,
     "metadata": {},
     "output_type": "execute_result"
    }
   ],
   "source": [
    "# dtc = DecisionTreeClassifier(criterion='entropy', ccp_alpha=0.015)\n",
    "# classifiers.append((dtc, \"Decision Tree\"))\n",
    "# x_train, x_test, y_train, y_test = train_test_split(X,y,test_size=0.2, random_state=12)\n",
    "# # https://scikit-learn.org/stable/auto_examples/tree/plot_cost_complexity_pruning.html#sphx-glr-auto-examples-tree-plot-cost-complexity-pruning-py\n",
    "# path = dtc.cost_complexity_pruning_path(x_train, y_train)\n",
    "# ccp_alphas, impurities = path.ccp_alphas, path.impurities\n",
    "# fig, ax = plt.subplots()\n",
    "# ax.plot(ccp_alphas[:-1], impurities[:-1], marker='o', drawstyle=\"steps-post\")\n",
    "# ax.set_xlabel(\"effective alpha\")\n",
    "# ax.set_ylabel(\"total impurity of leaves\")\n",
    "# ax.set_title(\"Total Impurity vs effective alpha for training set\")\n",
    "# dtc.fit(x_train,y_train)\n",
    "# print(dtc.get_depth())\n",
    "# print(dtc.get_params())\n",
    "# print(dtc.score(x_test,y_test))\n",
    "\n",
    "dtc = DecisionTreeClassifier()\n",
    "x_train, x_test, y_train, y_test = train_test_split(X,y,test_size=0.2, random_state=12)\n",
    "dtc.fit(x_train,y_train)\n",
    "y_pred = dtc.predict(x_test)\n",
    "print(y_pred.shape)\n",
    "confusion_matrix(y_test, y_pred)\n"
   ]
  },
  {
   "cell_type": "markdown",
   "id": "a2b4575b",
   "metadata": {},
   "source": [
    "# Supervised Learning Algorithms "
   ]
  },
  {
   "cell_type": "code",
   "execution_count": 49,
   "id": "c86a2a8c",
   "metadata": {},
   "outputs": [
    {
     "name": "stdout",
     "output_type": "stream",
     "text": [
      "Decision Tree\n",
      "accuracy: 0.810%\n",
      "Neural Network\n",
      "accuracy: 0.660%\n",
      "Boost\n",
      "accuracy: 0.665%\n",
      "SVM\n",
      "accuracy: 0.925%\n",
      "KNN\n",
      "accuracy: 0.905%\n",
      "Decision Tree\n",
      "accuracy: 0.860%\n",
      "Neural Network\n",
      "accuracy: 0.635%\n",
      "Boost\n",
      "accuracy: 0.695%\n",
      "SVM\n",
      "accuracy: 0.965%\n",
      "KNN\n",
      "accuracy: 0.910%\n",
      "Decision Tree\n",
      "accuracy: 0.855%\n",
      "Neural Network\n",
      "accuracy: 0.665%\n",
      "Boost\n",
      "accuracy: 0.685%\n",
      "SVM\n",
      "accuracy: 0.950%\n",
      "KNN\n",
      "accuracy: 0.935%\n",
      "Decision Tree\n",
      "accuracy: 0.845%\n",
      "Neural Network\n",
      "accuracy: 0.735%\n",
      "Boost\n",
      "accuracy: 0.685%\n",
      "SVM\n",
      "accuracy: 0.945%\n",
      "KNN\n",
      "accuracy: 0.910%\n",
      "Decision Tree\n",
      "accuracy: 0.845%\n",
      "Neural Network\n",
      "accuracy: 0.590%\n",
      "Boost\n",
      "accuracy: 0.805%\n",
      "SVM\n",
      "accuracy: 0.950%\n",
      "KNN\n",
      "accuracy: 0.910%\n",
      "Decision Tree\n",
      "accuracy: 0.850%\n",
      "Neural Network\n",
      "accuracy: 0.540%\n",
      "Boost\n",
      "accuracy: 0.800%\n",
      "SVM\n",
      "accuracy: 0.960%\n",
      "KNN\n",
      "accuracy: 0.915%\n",
      "Decision Tree\n",
      "accuracy: 0.860%\n",
      "Neural Network\n",
      "accuracy: 0.650%\n",
      "Boost\n",
      "accuracy: 0.820%\n",
      "SVM\n",
      "accuracy: 0.980%\n",
      "KNN\n",
      "accuracy: 0.945%\n",
      "Decision Tree\n",
      "accuracy: 0.845%\n",
      "Neural Network\n",
      "accuracy: 0.650%\n",
      "Boost\n",
      "accuracy: 0.800%\n",
      "SVM\n",
      "accuracy: 0.940%\n",
      "KNN\n",
      "accuracy: 0.905%\n",
      "Decision Tree\n",
      "accuracy: 0.820%\n",
      "Neural Network\n",
      "accuracy: 0.725%\n",
      "Boost\n",
      "accuracy: 0.710%\n",
      "SVM\n",
      "accuracy: 0.950%\n",
      "KNN\n",
      "accuracy: 0.925%\n",
      "Decision Tree\n",
      "accuracy: 0.875%\n",
      "Neural Network\n",
      "accuracy: 0.600%\n",
      "Boost\n",
      "accuracy: 0.575%\n",
      "SVM\n",
      "accuracy: 0.940%\n",
      "KNN\n",
      "accuracy: 0.920%\n"
     ]
    }
   ],
   "source": [
    "classifiers = [\n",
    "    (DecisionTreeClassifier(), \"Decision Tree\"),\n",
    "    (MLPClassifier(), \"Neural Network\"),\n",
    "    (AdaBoostClassifier(), \"Boost\"),\n",
    "    (svm.SVC(), \"SVM\"),\n",
    "    (KNeighborsClassifier(3), \"KNN\")\n",
    "]\n",
    "kfold = KFold(10, shuffle=True, random_state=1)\n",
    "for train_index, test_index in kfold.split(X):\n",
    "    for clf in classifiers:\n",
    "        x_train, x_test = X.iloc[train_index], X.iloc[test_index]\n",
    "        y_train, y_test = y.iloc[train_index], y.iloc[test_index]\n",
    "        model = clf[0].fit(x_train, y_train)\n",
    "        accuracy = model.score(x_test, y_test)\n",
    "        print(clf[1])\n",
    "        print(\"accuracy: {0:.3f}%\".format(accuracy))\n"
   ]
  },
  {
   "cell_type": "code",
   "execution_count": null,
   "id": "d9ce290c",
   "metadata": {},
   "outputs": [],
   "source": []
  }
 ],
 "metadata": {
  "interpreter": {
   "hash": "df7f74e933fd57653de6749693f631840ec630c35e9a1541559774eff7e03757"
  },
  "kernelspec": {
   "display_name": "Python 3 (ipykernel)",
   "language": "python",
   "name": "python3"
  },
  "language_info": {
   "codemirror_mode": {
    "name": "ipython",
    "version": 3
   },
   "file_extension": ".py",
   "mimetype": "text/x-python",
   "name": "python",
   "nbconvert_exporter": "python",
   "pygments_lexer": "ipython3",
   "version": "3.8.5"
  }
 },
 "nbformat": 4,
 "nbformat_minor": 5
}
