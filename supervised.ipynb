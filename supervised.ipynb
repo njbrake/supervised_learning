{
 "cells": [
  {
   "cell_type": "code",
   "execution_count": 1,
   "source": [
    "import pandas as pd\n",
    "import numpy as np\n",
    "import matplotlib.pyplot as plt\n",
    "from functools import lru_cache\n",
    "from sklearn.model_selection import train_test_split\n",
    "from sklearn.preprocessing import MinMaxScaler\n",
    "from sklearn.tree import DecisionTreeClassifier\n",
    "from sklearn.neural_network import MLPClassifier\n",
    "from sklearn.ensemble import AdaBoostClassifier\n",
    "from sklearn.datasets import make_classification\n",
    "from sklearn.neighbors import KNeighborsClassifier\n",
    "from sklearn import svm"
   ],
   "outputs": [],
   "metadata": {}
  },
  {
   "cell_type": "code",
   "execution_count": 2,
   "source": [
    "@lru_cache(maxsize=None)\n",
    "def load_bank():\n",
    "    # https://archive.ics.uci.edu/ml/datasets/Bank+Marketing\n",
    "    df=pd.read_csv('data/bank.csv', sep=';',header=0)\n",
    "    # Basic data cleanup to get rid of bad values and turn Y into 0-1 val\n",
    "    df=df.dropna(axis=1, how='all')\n",
    "    df=df.dropna(axis=0, how='any')\n",
    "    cat_cols=[]\n",
    "    i = 0 \n",
    "    for eachcol in df.dtypes:\n",
    "        if eachcol.name==\"object\":\n",
    "            cat_cols.append(df.columns[i])\n",
    "        i=i+1\n",
    "    # Convert the string values into integers, and give each value its own column, hot encode\n",
    "    df=pd.get_dummies(df,columns=cat_cols)\n",
    "    df.head()\n",
    "    X=df.iloc[:,0:-2]\n",
    "    y=df['y_yes']\n",
    "    # Use sklearn to split up the dataset\n",
    "    return X, y\n"
   ],
   "outputs": [],
   "metadata": {}
  },
  {
   "cell_type": "code",
   "execution_count": 3,
   "source": [
    "@lru_cache(maxsize=None)\n",
    "def load_heart():\n",
    "    df = pd.read_csv(\"data/heart.csv\")\n",
    "    X = df.iloc[:,0:-1]\n",
    "    y = df.iloc[:,-1]\n",
    "    return X, y"
   ],
   "outputs": [],
   "metadata": {}
  },
  {
   "cell_type": "code",
   "execution_count": 4,
   "source": [
    "X, y = load_heart()\n",
    "x_train, x_test, y_train, y_test = train_test_split(X, y, test_size=0.2) # Could Add a RandomState number to set the rand kernel"
   ],
   "outputs": [],
   "metadata": {}
  },
  {
   "cell_type": "markdown",
   "source": [
    "# Decision Tree "
   ],
   "metadata": {}
  },
  {
   "cell_type": "code",
   "execution_count": 14,
   "source": [
    "classifiers = [\n",
    "    (DecisionTreeClassifier(max_depth=5), \"Decision Tree\"),\n",
    "    (MLPClassifier(solver='lbfgs', alpha=1e-5,\n",
    "                   hidden_layer_sizes=(50, 20), random_state=1), \"Neural Network\"),\n",
    "    (AdaBoostClassifier(n_estimators=100, random_state=0), \"Boost\"),\n",
    "    (svm.SVC(), \"SVM\"),\n",
    "    (KNeighborsClassifier(3), \"KNN\")\n",
    "]\n",
    "for clf in classifiers:\n",
    "    model = clf[0].fit(x_train, y_train)\n",
    "    accuracy = model.score(x_test, y_test)\n",
    "    print(clf[1])\n",
    "    print(\"\\taccuracy: {0:.3f}%\".format(accuracy))\n"
   ],
   "outputs": [
    {
     "output_type": "stream",
     "name": "stdout",
     "text": [
      "Decision Tree\n",
      "\taccuracy: 0.672%\n",
      "Neural Network\n",
      "\taccuracy: 0.787%\n",
      "Boost\n",
      "\taccuracy: 0.672%\n",
      "SVM\n",
      "\taccuracy: 0.656%\n",
      "KNN\n",
      "\taccuracy: 0.607%\n"
     ]
    },
    {
     "output_type": "stream",
     "name": "stderr",
     "text": [
      "/home/builder/ml-env/lib/python3.8/site-packages/sklearn/neural_network/_multilayer_perceptron.py:500: ConvergenceWarning: lbfgs failed to converge (status=1):\n",
      "STOP: TOTAL NO. of ITERATIONS REACHED LIMIT.\n",
      "\n",
      "Increase the number of iterations (max_iter) or scale the data as shown in:\n",
      "    https://scikit-learn.org/stable/modules/preprocessing.html\n",
      "  self.n_iter_ = _check_optimize_result(\"lbfgs\", opt_res, self.max_iter)\n"
     ]
    }
   ],
   "metadata": {}
  },
  {
   "cell_type": "code",
   "execution_count": null,
   "source": [],
   "outputs": [],
   "metadata": {}
  }
 ],
 "metadata": {
  "kernelspec": {
   "name": "python3",
   "display_name": "Python 3.8.5 64-bit ('ml-env': venv)"
  },
  "language_info": {
   "codemirror_mode": {
    "name": "ipython",
    "version": 3
   },
   "file_extension": ".py",
   "mimetype": "text/x-python",
   "name": "python",
   "nbconvert_exporter": "python",
   "pygments_lexer": "ipython3",
   "version": "3.8.5"
  },
  "interpreter": {
   "hash": "df7f74e933fd57653de6749693f631840ec630c35e9a1541559774eff7e03757"
  }
 },
 "nbformat": 4,
 "nbformat_minor": 5
}