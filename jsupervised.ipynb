{
 "cells": [
  {
   "cell_type": "code",
   "execution_count": 2,
   "source": [
    "import pandas as pd\n",
    "import numpy as np\n",
    "import matplotlib.pyplot as plt\n",
    "from sklearn.model_selection import train_test_split\n",
    "from sklearn.preprocessing import MinMaxScaler"
   ],
   "outputs": [],
   "metadata": {}
  },
  {
   "cell_type": "code",
   "execution_count": 3,
   "source": [
    "df=pd.read_csv('data/bank-full.csv', sep=';',header=0)\n",
    "# Basic data cleanup to get rid of bad values and turn Y into 0-1 val\n",
    "df=df.dropna(axis=1, how='all')\n",
    "df=df.dropna(axis=0, how='any')\n",
    "cat_cols=[]\n",
    "i = 0 \n",
    "for eachcol in df.dtypes:\n",
    "    if eachcol.name==\"object\":\n",
    "        cat_cols.append(df.columns[i])\n",
    "    i=i+1\n",
    "# Convert the string values into integers, and give each value its own column, hot encode\n",
    "df=pd.get_dummies(df,columns=cat_cols)\n",
    "df.head()\n",
    "X=df.iloc[:,0:-2]\n",
    "y=df['y_yes']\n",
    "# Use sklearn to split up the dataset\n",
    "x_train, x_test, y_train, y_test = train_test_split(X, y, test_size=0.3, random_state=12) # Could Add a RandomState number to set the rand kernel\n",
    "scaler = MinMaxScaler()\n",
    "scaler.fit(x_train)\n",
    "x_train_n=scaler.transform(x_train)\n",
    "x_test_n=scaler.transform(x_test)"
   ],
   "outputs": [],
   "metadata": {}
  },
  {
   "cell_type": "markdown",
   "source": [
    "# Decision Tree "
   ],
   "metadata": {}
  },
  {
   "cell_type": "code",
   "execution_count": 4,
   "source": [
    "from sklearn.tree import DecisionTreeClassifier\n",
    "clf = DecisionTreeClassifier(max_depth=5)\n",
    "model=clf.fit(x_train_n,y_train)\n",
    "accuracy = model.score(x_test_n, y_test)\n",
    "print(\"Decision Tree accuracy: {0:.3f}%\".format(accuracy))"
   ],
   "outputs": [
    {
     "output_type": "stream",
     "name": "stdout",
     "text": [
      "Decision Tree accuracy: 0.903%\n"
     ]
    }
   ],
   "metadata": {}
  },
  {
   "cell_type": "markdown",
   "source": [
    "# Neural Network"
   ],
   "metadata": {}
  },
  {
   "cell_type": "code",
   "execution_count": 5,
   "source": [
    "from sklearn.neural_network import MLPClassifier\n",
    "X = [[0., 0.], [1., 1.]]\n",
    "y = [0, 1]\n",
    "clf = MLPClassifier(solver='lbfgs', alpha=1e-5,\n",
    "                    hidden_layer_sizes=(5, 2), random_state=1)\n",
    "\n",
    "model = clf.fit(x_train_n, y_train)\n",
    "accuracy = model.score(x_test_n, y_test)\n",
    "print(\"Neural Net Accuracy: {0:.3f}%\".format(accuracy))\n"
   ],
   "outputs": [
    {
     "output_type": "stream",
     "name": "stdout",
     "text": [
      "Neural Net Accuracy: 0.884%\n"
     ]
    }
   ],
   "metadata": {}
  },
  {
   "cell_type": "markdown",
   "source": [
    "# Boosting"
   ],
   "metadata": {}
  },
  {
   "cell_type": "code",
   "execution_count": 6,
   "source": [
    "from sklearn.ensemble import AdaBoostClassifier\n",
    "from sklearn.datasets import make_classification\n",
    "clf = AdaBoostClassifier(n_estimators=100, random_state=0)\n",
    "model = clf.fit(x_train_n, y_train)\n",
    "\n",
    "accuracy = model.score(x_test_n, y_test)\n",
    "print(\"Boosting Accuracy: {0:.3f}%\".format(accuracy))"
   ],
   "outputs": [
    {
     "output_type": "stream",
     "name": "stdout",
     "text": [
      "Boosting Accuracy: 0.903%\n"
     ]
    }
   ],
   "metadata": {}
  },
  {
   "cell_type": "markdown",
   "source": [
    "# Support Vector Machines"
   ],
   "metadata": {}
  },
  {
   "cell_type": "code",
   "execution_count": 7,
   "source": [
    "from sklearn import svm\n",
    "clf = svm.SVC()\n",
    "model = clf.fit(x_train_n, y_train)\n",
    "accuracy = model.score(x_test_n, y_test)\n",
    "print(\"SVM Accuracy: {0:.3f}%\".format(accuracy))"
   ],
   "outputs": [
    {
     "output_type": "stream",
     "name": "stdout",
     "text": [
      "SVM Accuracy: 0.895%\n"
     ]
    }
   ],
   "metadata": {}
  },
  {
   "cell_type": "markdown",
   "source": [
    "# k-Nearest Neighbors"
   ],
   "metadata": {}
  },
  {
   "cell_type": "code",
   "execution_count": 8,
   "source": [
    "from sklearn.neighbors import KNeighborsClassifier\n",
    "clf = KNeighborsClassifier(3)\n",
    "model = clf.fit(x_train_n, y_train)\n",
    "accuracy = model.score(x_test_n, y_test)\n",
    "print(\"k-NN Accuracy: {0:.3f}%\".format(accuracy))"
   ],
   "outputs": [
    {
     "output_type": "stream",
     "name": "stdout",
     "text": [
      "k-NN Accuracy: 0.885%\n"
     ]
    }
   ],
   "metadata": {}
  },
  {
   "cell_type": "code",
   "execution_count": null,
   "source": [],
   "outputs": [],
   "metadata": {}
  }
 ],
 "metadata": {
  "kernelspec": {
   "name": "python3",
   "display_name": "Python 3.8.5 64-bit ('ml-env': venv)"
  },
  "language_info": {
   "codemirror_mode": {
    "name": "ipython",
    "version": 3
   },
   "file_extension": ".py",
   "mimetype": "text/x-python",
   "name": "python",
   "nbconvert_exporter": "python",
   "pygments_lexer": "ipython3",
   "version": "3.8.5"
  },
  "interpreter": {
   "hash": "df7f74e933fd57653de6749693f631840ec630c35e9a1541559774eff7e03757"
  }
 },
 "nbformat": 4,
 "nbformat_minor": 5
}